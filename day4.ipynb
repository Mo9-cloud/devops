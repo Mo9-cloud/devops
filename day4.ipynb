{
 "cells": [
  {
   "cell_type": "code",
   "execution_count": 1,
   "id": "87b3cd80",
   "metadata": {},
   "outputs": [],
   "source": [
    "l=[1,235,56,3+5j,456.78,\"Hello\"]"
   ]
  },
  {
   "cell_type": "code",
   "execution_count": 2,
   "id": "837ec389",
   "metadata": {},
   "outputs": [
    {
     "data": {
      "text/plain": [
       "[1, 235, 56, (3+5j), 456.78, 'Hello']"
      ]
     },
     "execution_count": 2,
     "metadata": {},
     "output_type": "execute_result"
    }
   ],
   "source": [
    "l"
   ]
  },
  {
   "cell_type": "code",
   "execution_count": 3,
   "id": "728d9d9d",
   "metadata": {},
   "outputs": [
    {
     "data": {
      "text/plain": [
       "6"
      ]
     },
     "execution_count": 3,
     "metadata": {},
     "output_type": "execute_result"
    }
   ],
   "source": [
    "len(l)"
   ]
  },
  {
   "cell_type": "code",
   "execution_count": 4,
   "id": "299e9369",
   "metadata": {},
   "outputs": [
    {
     "data": {
      "text/plain": [
       "1"
      ]
     },
     "execution_count": 4,
     "metadata": {},
     "output_type": "execute_result"
    }
   ],
   "source": [
    "l[0]"
   ]
  },
  {
   "cell_type": "code",
   "execution_count": 5,
   "id": "17196c63",
   "metadata": {},
   "outputs": [
    {
     "data": {
      "text/plain": [
       "True"
      ]
     },
     "execution_count": 5,
     "metadata": {},
     "output_type": "execute_result"
    }
   ],
   "source": [
    "## checking the iteam\n",
    "1 in l"
   ]
  },
  {
   "cell_type": "code",
   "execution_count": 7,
   "id": "924a4764",
   "metadata": {},
   "outputs": [
    {
     "data": {
      "text/plain": [
       "True"
      ]
     },
     "execution_count": 7,
     "metadata": {},
     "output_type": "execute_result"
    }
   ],
   "source": [
    "\"Hello\" in l"
   ]
  },
  {
   "cell_type": "code",
   "execution_count": 9,
   "id": "b861c1e8",
   "metadata": {},
   "outputs": [
    {
     "data": {
      "text/plain": [
       "False"
      ]
     },
     "execution_count": 9,
     "metadata": {},
     "output_type": "execute_result"
    }
   ],
   "source": [
    "345 in l"
   ]
  },
  {
   "cell_type": "code",
   "execution_count": 10,
   "id": "005da500",
   "metadata": {},
   "outputs": [],
   "source": [
    "## changing the iteam"
   ]
  },
  {
   "cell_type": "code",
   "execution_count": 12,
   "id": "db7c0a2c",
   "metadata": {},
   "outputs": [],
   "source": [
    "l[5]=\"BLR\""
   ]
  },
  {
   "cell_type": "code",
   "execution_count": 14,
   "id": "872df629",
   "metadata": {},
   "outputs": [
    {
     "data": {
      "text/plain": [
       "[1, 235, 56, (3+5j), 456.78, 'BLR']"
      ]
     },
     "execution_count": 14,
     "metadata": {},
     "output_type": "execute_result"
    }
   ],
   "source": [
    "l"
   ]
  },
  {
   "cell_type": "code",
   "execution_count": 15,
   "id": "b6d0b98f",
   "metadata": {},
   "outputs": [],
   "source": [
    "## append operation of list"
   ]
  },
  {
   "cell_type": "code",
   "execution_count": 16,
   "id": "8b9dabec",
   "metadata": {},
   "outputs": [],
   "source": [
    "a=3456"
   ]
  },
  {
   "cell_type": "code",
   "execution_count": 17,
   "id": "c1406dcf",
   "metadata": {},
   "outputs": [
    {
     "data": {
      "text/plain": [
       "3456"
      ]
     },
     "execution_count": 17,
     "metadata": {},
     "output_type": "execute_result"
    }
   ],
   "source": [
    "a"
   ]
  },
  {
   "cell_type": "code",
   "execution_count": 18,
   "id": "b5579e8e",
   "metadata": {},
   "outputs": [],
   "source": [
    "l.append(a)"
   ]
  },
  {
   "cell_type": "code",
   "execution_count": 19,
   "id": "8654e55f",
   "metadata": {},
   "outputs": [
    {
     "data": {
      "text/plain": [
       "[1, 235, 56, (3+5j), 456.78, 'BLR', 3456]"
      ]
     },
     "execution_count": 19,
     "metadata": {},
     "output_type": "execute_result"
    }
   ],
   "source": [
    "l"
   ]
  },
  {
   "cell_type": "code",
   "execution_count": 20,
   "id": "0bd1bbff",
   "metadata": {},
   "outputs": [],
   "source": [
    "l2=[\"Blr\",\"Fruits\",\"Vegies\"]"
   ]
  },
  {
   "cell_type": "code",
   "execution_count": 21,
   "id": "19c9c1e9",
   "metadata": {},
   "outputs": [
    {
     "data": {
      "text/plain": [
       "['Blr', 'Fruits', 'Vegies']"
      ]
     },
     "execution_count": 21,
     "metadata": {},
     "output_type": "execute_result"
    }
   ],
   "source": [
    "l2"
   ]
  },
  {
   "cell_type": "code",
   "execution_count": 22,
   "id": "ea0c00c5",
   "metadata": {},
   "outputs": [],
   "source": [
    "l.append(l2)"
   ]
  },
  {
   "cell_type": "code",
   "execution_count": 23,
   "id": "e2a95982",
   "metadata": {},
   "outputs": [
    {
     "data": {
      "text/plain": [
       "[1, 235, 56, (3+5j), 456.78, 'BLR', 3456, ['Blr', 'Fruits', 'Vegies']]"
      ]
     },
     "execution_count": 23,
     "metadata": {},
     "output_type": "execute_result"
    }
   ],
   "source": [
    "l"
   ]
  },
  {
   "cell_type": "code",
   "execution_count": 24,
   "id": "45cbe2f3",
   "metadata": {},
   "outputs": [
    {
     "data": {
      "text/plain": [
       "'Fruits'"
      ]
     },
     "execution_count": 24,
     "metadata": {},
     "output_type": "execute_result"
    }
   ],
   "source": [
    "l[-1][1]"
   ]
  },
  {
   "cell_type": "code",
   "execution_count": 25,
   "id": "d4ca60de",
   "metadata": {},
   "outputs": [],
   "source": [
    "l[-1][1]=\"Vegitable\""
   ]
  },
  {
   "cell_type": "code",
   "execution_count": 26,
   "id": "4e7bf18a",
   "metadata": {},
   "outputs": [
    {
     "data": {
      "text/plain": [
       "[1, 235, 56, (3+5j), 456.78, 'BLR', 3456, ['Blr', 'Vegitable', 'Vegies']]"
      ]
     },
     "execution_count": 26,
     "metadata": {},
     "output_type": "execute_result"
    }
   ],
   "source": [
    "l"
   ]
  },
  {
   "cell_type": "code",
   "execution_count": 27,
   "id": "24a508fe",
   "metadata": {},
   "outputs": [],
   "source": [
    "## extend"
   ]
  },
  {
   "cell_type": "code",
   "execution_count": 28,
   "id": "5d4b1294",
   "metadata": {},
   "outputs": [],
   "source": [
    "l3=[\"Pune\",\"City\",\"Amazon\",34,56,7,89,12]"
   ]
  },
  {
   "cell_type": "code",
   "execution_count": 29,
   "id": "67b743db",
   "metadata": {},
   "outputs": [
    {
     "data": {
      "text/plain": [
       "['Pune', 'City', 'Amazon', 34, 56, 7, 89, 12]"
      ]
     },
     "execution_count": 29,
     "metadata": {},
     "output_type": "execute_result"
    }
   ],
   "source": [
    "l3"
   ]
  },
  {
   "cell_type": "code",
   "execution_count": 30,
   "id": "da3afdb8",
   "metadata": {},
   "outputs": [
    {
     "data": {
      "text/plain": [
       "[1, 235, 56, (3+5j), 456.78, 'BLR', 3456, ['Blr', 'Vegitable', 'Vegies']]"
      ]
     },
     "execution_count": 30,
     "metadata": {},
     "output_type": "execute_result"
    }
   ],
   "source": [
    "l"
   ]
  },
  {
   "cell_type": "code",
   "execution_count": 31,
   "id": "e5f53b06",
   "metadata": {},
   "outputs": [],
   "source": [
    "l.extend(l3)"
   ]
  },
  {
   "cell_type": "code",
   "execution_count": 32,
   "id": "65f78993",
   "metadata": {},
   "outputs": [
    {
     "data": {
      "text/plain": [
       "[1,\n",
       " 235,\n",
       " 56,\n",
       " (3+5j),\n",
       " 456.78,\n",
       " 'BLR',\n",
       " 3456,\n",
       " ['Blr', 'Vegitable', 'Vegies'],\n",
       " 'Pune',\n",
       " 'City',\n",
       " 'Amazon',\n",
       " 34,\n",
       " 56,\n",
       " 7,\n",
       " 89,\n",
       " 12]"
      ]
     },
     "execution_count": 32,
     "metadata": {},
     "output_type": "execute_result"
    }
   ],
   "source": [
    "l"
   ]
  },
  {
   "cell_type": "code",
   "execution_count": 33,
   "id": "31fea485",
   "metadata": {},
   "outputs": [],
   "source": [
    "a=34+6J"
   ]
  },
  {
   "cell_type": "code",
   "execution_count": 34,
   "id": "41f3a962",
   "metadata": {},
   "outputs": [
    {
     "data": {
      "text/plain": [
       "(34+6j)"
      ]
     },
     "execution_count": 34,
     "metadata": {},
     "output_type": "execute_result"
    }
   ],
   "source": [
    "a"
   ]
  },
  {
   "cell_type": "code",
   "execution_count": 35,
   "id": "13b2da7a",
   "metadata": {},
   "outputs": [],
   "source": [
    "l.insert(0,a)"
   ]
  },
  {
   "cell_type": "code",
   "execution_count": 36,
   "id": "b8b35942",
   "metadata": {},
   "outputs": [
    {
     "data": {
      "text/plain": [
       "[(34+6j),\n",
       " 1,\n",
       " 235,\n",
       " 56,\n",
       " (3+5j),\n",
       " 456.78,\n",
       " 'BLR',\n",
       " 3456,\n",
       " ['Blr', 'Vegitable', 'Vegies'],\n",
       " 'Pune',\n",
       " 'City',\n",
       " 'Amazon',\n",
       " 34,\n",
       " 56,\n",
       " 7,\n",
       " 89,\n",
       " 12]"
      ]
     },
     "execution_count": 36,
     "metadata": {},
     "output_type": "execute_result"
    }
   ],
   "source": [
    "l"
   ]
  },
  {
   "cell_type": "code",
   "execution_count": 37,
   "id": "55ed27c8",
   "metadata": {},
   "outputs": [],
   "source": [
    "l.remove((34+6j))"
   ]
  },
  {
   "cell_type": "code",
   "execution_count": 38,
   "id": "67c3b0c1",
   "metadata": {},
   "outputs": [
    {
     "data": {
      "text/plain": [
       "[1,\n",
       " 235,\n",
       " 56,\n",
       " (3+5j),\n",
       " 456.78,\n",
       " 'BLR',\n",
       " 3456,\n",
       " ['Blr', 'Vegitable', 'Vegies'],\n",
       " 'Pune',\n",
       " 'City',\n",
       " 'Amazon',\n",
       " 34,\n",
       " 56,\n",
       " 7,\n",
       " 89,\n",
       " 12]"
      ]
     },
     "execution_count": 38,
     "metadata": {},
     "output_type": "execute_result"
    }
   ],
   "source": [
    "l"
   ]
  },
  {
   "cell_type": "code",
   "execution_count": 39,
   "id": "8e083a09",
   "metadata": {},
   "outputs": [],
   "source": [
    "l.remove(['Blr', 'Vegitable', 'Vegies'])"
   ]
  },
  {
   "cell_type": "code",
   "execution_count": 40,
   "id": "a0aa3189",
   "metadata": {},
   "outputs": [
    {
     "data": {
      "text/plain": [
       "[1,\n",
       " 235,\n",
       " 56,\n",
       " (3+5j),\n",
       " 456.78,\n",
       " 'BLR',\n",
       " 3456,\n",
       " 'Pune',\n",
       " 'City',\n",
       " 'Amazon',\n",
       " 34,\n",
       " 56,\n",
       " 7,\n",
       " 89,\n",
       " 12]"
      ]
     },
     "execution_count": 40,
     "metadata": {},
     "output_type": "execute_result"
    }
   ],
   "source": [
    "l"
   ]
  },
  {
   "cell_type": "code",
   "execution_count": 41,
   "id": "a079411d",
   "metadata": {},
   "outputs": [],
   "source": [
    "## pop"
   ]
  },
  {
   "cell_type": "code",
   "execution_count": 43,
   "id": "0cd56e7d",
   "metadata": {},
   "outputs": [
    {
     "data": {
      "text/plain": [
       "235"
      ]
     },
     "execution_count": 43,
     "metadata": {},
     "output_type": "execute_result"
    }
   ],
   "source": [
    "l.pop(1)"
   ]
  },
  {
   "cell_type": "code",
   "execution_count": 44,
   "id": "b021c45d",
   "metadata": {},
   "outputs": [
    {
     "data": {
      "text/plain": [
       "[1,\n",
       " 56,\n",
       " (3+5j),\n",
       " 456.78,\n",
       " 'BLR',\n",
       " 3456,\n",
       " 'Pune',\n",
       " 'City',\n",
       " 'Amazon',\n",
       " 34,\n",
       " 56,\n",
       " 7,\n",
       " 89,\n",
       " 12]"
      ]
     },
     "execution_count": 44,
     "metadata": {},
     "output_type": "execute_result"
    }
   ],
   "source": [
    "l"
   ]
  },
  {
   "cell_type": "code",
   "execution_count": 45,
   "id": "f40d5120",
   "metadata": {},
   "outputs": [],
   "source": [
    "## del "
   ]
  },
  {
   "cell_type": "code",
   "execution_count": 47,
   "id": "44383925",
   "metadata": {},
   "outputs": [
    {
     "data": {
      "text/plain": [
       "['Blr', 'Vegitable', 'Vegies']"
      ]
     },
     "execution_count": 47,
     "metadata": {},
     "output_type": "execute_result"
    }
   ],
   "source": [
    "l2"
   ]
  },
  {
   "cell_type": "code",
   "execution_count": 48,
   "id": "a25781dd",
   "metadata": {},
   "outputs": [],
   "source": [
    "del l2"
   ]
  },
  {
   "cell_type": "code",
   "execution_count": 49,
   "id": "ec83b85e",
   "metadata": {},
   "outputs": [
    {
     "ename": "NameError",
     "evalue": "name 'l2' is not defined",
     "output_type": "error",
     "traceback": [
      "\u001b[1;31m---------------------------------------------------------------------------\u001b[0m",
      "\u001b[1;31mNameError\u001b[0m                                 Traceback (most recent call last)",
      "Cell \u001b[1;32mIn[49], line 1\u001b[0m\n\u001b[1;32m----> 1\u001b[0m \u001b[43ml2\u001b[49m\n",
      "\u001b[1;31mNameError\u001b[0m: name 'l2' is not defined"
     ]
    }
   ],
   "source": [
    "l2"
   ]
  },
  {
   "cell_type": "code",
   "execution_count": 52,
   "id": "b1729fa3",
   "metadata": {},
   "outputs": [
    {
     "data": {
      "text/plain": [
       "['Pune', 'City', 'Amazon', 34, 56, 7, 89, 12]"
      ]
     },
     "execution_count": 52,
     "metadata": {},
     "output_type": "execute_result"
    }
   ],
   "source": [
    "l3"
   ]
  },
  {
   "cell_type": "code",
   "execution_count": 53,
   "id": "3aab1103",
   "metadata": {},
   "outputs": [],
   "source": [
    "## concatination"
   ]
  },
  {
   "cell_type": "code",
   "execution_count": 54,
   "id": "765d5bb9",
   "metadata": {},
   "outputs": [],
   "source": [
    "l4=[1,2,3,4,5]"
   ]
  },
  {
   "cell_type": "code",
   "execution_count": 55,
   "id": "d74c5653",
   "metadata": {},
   "outputs": [
    {
     "data": {
      "text/plain": [
       "['Pune', 'City', 'Amazon', 34, 56, 7, 89, 12, 1, 2, 3, 4, 5]"
      ]
     },
     "execution_count": 55,
     "metadata": {},
     "output_type": "execute_result"
    }
   ],
   "source": [
    "l3+l4"
   ]
  },
  {
   "cell_type": "code",
   "execution_count": 56,
   "id": "f95d61d2",
   "metadata": {},
   "outputs": [
    {
     "data": {
      "text/plain": [
       "[1, 2, 3, 4, 5, 'Pune', 'City', 'Amazon', 34, 56, 7, 89, 12]"
      ]
     },
     "execution_count": 56,
     "metadata": {},
     "output_type": "execute_result"
    }
   ],
   "source": [
    "l4+l3"
   ]
  },
  {
   "cell_type": "code",
   "execution_count": 57,
   "id": "8450c66c",
   "metadata": {},
   "outputs": [],
   "source": [
    "# Min"
   ]
  },
  {
   "cell_type": "code",
   "execution_count": 64,
   "id": "a05243ee",
   "metadata": {},
   "outputs": [
    {
     "data": {
      "text/plain": [
       "['Pune', 'City', 'Amazon', 34, 56, 7, 89, 12]"
      ]
     },
     "execution_count": 64,
     "metadata": {},
     "output_type": "execute_result"
    }
   ],
   "source": [
    "l3"
   ]
  },
  {
   "cell_type": "code",
   "execution_count": 61,
   "id": "56c4f1e4",
   "metadata": {},
   "outputs": [
    {
     "ename": "TypeError",
     "evalue": "'<' not supported between instances of 'int' and 'str'",
     "output_type": "error",
     "traceback": [
      "\u001b[1;31m---------------------------------------------------------------------------\u001b[0m",
      "\u001b[1;31mTypeError\u001b[0m                                 Traceback (most recent call last)",
      "Cell \u001b[1;32mIn[61], line 1\u001b[0m\n\u001b[1;32m----> 1\u001b[0m \u001b[38;5;28;43mmin\u001b[39;49m\u001b[43m(\u001b[49m\u001b[43ml3\u001b[49m\u001b[43m)\u001b[49m\n",
      "\u001b[1;31mTypeError\u001b[0m: '<' not supported between instances of 'int' and 'str'"
     ]
    }
   ],
   "source": [
    "min(l3)"
   ]
  },
  {
   "cell_type": "code",
   "execution_count": 63,
   "id": "5097ece3",
   "metadata": {},
   "outputs": [
    {
     "data": {
      "text/plain": [
       "1"
      ]
     },
     "execution_count": 63,
     "metadata": {},
     "output_type": "execute_result"
    }
   ],
   "source": [
    "min(l4)"
   ]
  },
  {
   "cell_type": "code",
   "execution_count": 65,
   "id": "fb1d5c7b",
   "metadata": {},
   "outputs": [
    {
     "data": {
      "text/plain": [
       "[1, 2, 3, 4, 5]"
      ]
     },
     "execution_count": 65,
     "metadata": {},
     "output_type": "execute_result"
    }
   ],
   "source": [
    "l4"
   ]
  },
  {
   "cell_type": "code",
   "execution_count": 66,
   "id": "ae189d22",
   "metadata": {},
   "outputs": [
    {
     "data": {
      "text/plain": [
       "['Pune', 'City', 'Amazon', 34, 56, 7, 89, 12]"
      ]
     },
     "execution_count": 66,
     "metadata": {},
     "output_type": "execute_result"
    }
   ],
   "source": [
    "l3"
   ]
  },
  {
   "cell_type": "code",
   "execution_count": 67,
   "id": "257034b8",
   "metadata": {},
   "outputs": [
    {
     "data": {
      "text/plain": [
       "5"
      ]
     },
     "execution_count": 67,
     "metadata": {},
     "output_type": "execute_result"
    }
   ],
   "source": [
    "max(l4)"
   ]
  },
  {
   "cell_type": "code",
   "execution_count": 68,
   "id": "69a46fb9",
   "metadata": {},
   "outputs": [
    {
     "data": {
      "text/plain": [
       "15"
      ]
     },
     "execution_count": 68,
     "metadata": {},
     "output_type": "execute_result"
    }
   ],
   "source": [
    "sum(l4)"
   ]
  },
  {
   "cell_type": "code",
   "execution_count": 71,
   "id": "8849fa3f",
   "metadata": {},
   "outputs": [
    {
     "data": {
      "text/plain": [
       "1"
      ]
     },
     "execution_count": 71,
     "metadata": {},
     "output_type": "execute_result"
    }
   ],
   "source": [
    "l4.count(1)"
   ]
  },
  {
   "cell_type": "code",
   "execution_count": 74,
   "id": "5378de5d",
   "metadata": {},
   "outputs": [],
   "source": [
    "l5=[3,4,3,3,3,5,5,6,7,7]"
   ]
  },
  {
   "cell_type": "code",
   "execution_count": 75,
   "id": "50c4461b",
   "metadata": {},
   "outputs": [
    {
     "data": {
      "text/plain": [
       "4"
      ]
     },
     "execution_count": 75,
     "metadata": {},
     "output_type": "execute_result"
    }
   ],
   "source": [
    "l5.count(3)"
   ]
  },
  {
   "cell_type": "code",
   "execution_count": 76,
   "id": "20787e80",
   "metadata": {},
   "outputs": [],
   "source": [
    "#sort"
   ]
  },
  {
   "cell_type": "code",
   "execution_count": 79,
   "id": "42f112a8",
   "metadata": {},
   "outputs": [
    {
     "ename": "TypeError",
     "evalue": "sort() takes no positional arguments",
     "output_type": "error",
     "traceback": [
      "\u001b[1;31m---------------------------------------------------------------------------\u001b[0m",
      "\u001b[1;31mTypeError\u001b[0m                                 Traceback (most recent call last)",
      "Cell \u001b[1;32mIn[79], line 1\u001b[0m\n\u001b[1;32m----> 1\u001b[0m \u001b[43ml5\u001b[49m\u001b[38;5;241;43m.\u001b[39;49m\u001b[43msort\u001b[49m\u001b[43m(\u001b[49m\u001b[38;5;241;43m-\u001b[39;49m\u001b[38;5;241;43m1\u001b[39;49m\u001b[43m)\u001b[49m\n",
      "\u001b[1;31mTypeError\u001b[0m: sort() takes no positional arguments"
     ]
    }
   ],
   "source": [
    "l5.sort()"
   ]
  },
  {
   "cell_type": "code",
   "execution_count": 80,
   "id": "a5a57dbc",
   "metadata": {},
   "outputs": [],
   "source": [
    "l5.sort(reverse=True)"
   ]
  },
  {
   "cell_type": "code",
   "execution_count": 81,
   "id": "f75a2550",
   "metadata": {},
   "outputs": [
    {
     "data": {
      "text/plain": [
       "[7, 7, 6, 5, 5, 4, 3, 3, 3, 3]"
      ]
     },
     "execution_count": 81,
     "metadata": {},
     "output_type": "execute_result"
    }
   ],
   "source": [
    "l5"
   ]
  },
  {
   "cell_type": "code",
   "execution_count": 82,
   "id": "2405423f",
   "metadata": {},
   "outputs": [],
   "source": [
    "## write a python code to find the area of circle and return the list with area l2 ."
   ]
  },
  {
   "cell_type": "code",
   "execution_count": 85,
   "id": "cce525ee",
   "metadata": {},
   "outputs": [],
   "source": [
    "l2=[]\n",
    "r=23\n",
    "pai=3.14\n",
    "area=pai*r*r\n",
    "l2.append(area)"
   ]
  },
  {
   "cell_type": "code",
   "execution_count": 86,
   "id": "d09916d6",
   "metadata": {},
   "outputs": [
    {
     "data": {
      "text/plain": [
       "[1661.06]"
      ]
     },
     "execution_count": 86,
     "metadata": {},
     "output_type": "execute_result"
    }
   ],
   "source": [
    "l2"
   ]
  },
  {
   "cell_type": "code",
   "execution_count": 90,
   "id": "b22527b6",
   "metadata": {},
   "outputs": [
    {
     "name": "stdout",
     "output_type": "stream",
     "text": [
      "Enter the radius of circle=45\n",
      "[6358.5]\n"
     ]
    }
   ],
   "source": [
    "radius= int(input(\"Enter the radius of circle=\"))\n",
    "l3=[]\n",
    "area=3.14*radius*radius\n",
    "area=round(area,2)\n",
    "l3.append(area)\n",
    "print(l3)"
   ]
  },
  {
   "cell_type": "raw",
   "id": "e3039e91",
   "metadata": {},
   "source": []
  }
 ],
 "metadata": {
  "kernelspec": {
   "display_name": "Python 3 (ipykernel)",
   "language": "python",
   "name": "python3"
  },
  "language_info": {
   "codemirror_mode": {
    "name": "ipython",
    "version": 3
   },
   "file_extension": ".py",
   "mimetype": "text/x-python",
   "name": "python",
   "nbconvert_exporter": "python",
   "pygments_lexer": "ipython3",
   "version": "3.12.4"
  }
 },
 "nbformat": 4,
 "nbformat_minor": 5
}
